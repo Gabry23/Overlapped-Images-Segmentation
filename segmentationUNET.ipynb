{
  "cells": [
    {
      "cell_type": "markdown",
      "metadata": {
        "id": "BtO9jMGEaShb"
      },
      "source": [
        "# Blind source separation\n",
        "The purpose of the project is to separate an image obtained as a sum of a two images into its components. \n",
        "\n",
        "The two images img1 and img2 summed together come from different dataset: mnist and fashion_mnist, respectively.\n",
        "\n",
        "No preprocessing is allowed. The network takes in input the sum img1+img2 and returns the predicted components hat_img1 and hat_img2. \n",
        "\n",
        "The metric used to evaluate the project is the mean squared error between predicted and ground truth images.\n"
      ]
    },
    {
      "cell_type": "code",
      "execution_count": 1,
      "metadata": {
        "id": "wrlTnZCNfnfr"
      },
      "outputs": [],
      "source": [
        "import tensorflow as tf\n",
        "from tensorflow.keras import layers\n",
        "from tensorflow.keras.datasets import mnist, fashion_mnist\n",
        "\n",
        "import numpy as np\n",
        "from matplotlib import pyplot as plt\n"
      ]
    },
    {
      "cell_type": "markdown",
      "metadata": {
        "id": "fRotM-TfcUcn"
      },
      "source": [
        "Here we load the two datasets, mnist and fashion mnist (both in grayscale).\n",
        "\n",
        "For simplicity, the samples are padded to dimension (32,32)."
      ]
    },
    {
      "cell_type": "code",
      "execution_count": 2,
      "metadata": {
        "colab": {
          "base_uri": "https://localhost:8080/"
        },
        "id": "yRYiW2ipukZF",
        "outputId": "0b15757c-f27a-4012-a011-f82997742de0"
      },
      "outputs": [
        {
          "output_type": "stream",
          "name": "stdout",
          "text": [
            "Downloading data from https://storage.googleapis.com/tensorflow/tf-keras-datasets/mnist.npz\n",
            "11493376/11490434 [==============================] - 0s 0us/step\n",
            "11501568/11490434 [==============================] - 0s 0us/step\n",
            "(60000, 28, 28)\n",
            "Downloading data from https://storage.googleapis.com/tensorflow/tf-keras-datasets/train-labels-idx1-ubyte.gz\n",
            "32768/29515 [=================================] - 0s 0us/step\n",
            "40960/29515 [=========================================] - 0s 0us/step\n",
            "Downloading data from https://storage.googleapis.com/tensorflow/tf-keras-datasets/train-images-idx3-ubyte.gz\n",
            "26427392/26421880 [==============================] - 0s 0us/step\n",
            "26435584/26421880 [==============================] - 0s 0us/step\n",
            "Downloading data from https://storage.googleapis.com/tensorflow/tf-keras-datasets/t10k-labels-idx1-ubyte.gz\n",
            "16384/5148 [===============================================================================================] - 0s 0us/step\n",
            "Downloading data from https://storage.googleapis.com/tensorflow/tf-keras-datasets/t10k-images-idx3-ubyte.gz\n",
            "4423680/4422102 [==============================] - 0s 0us/step\n",
            "4431872/4422102 [==============================] - 0s 0us/step\n",
            "(60000, 32, 32)\n"
          ]
        }
      ],
      "source": [
        "(mnist_x_train, mnist_y_train), (mnist_x_test, mnist_y_test) = mnist.load_data()\n",
        "print(np.shape(mnist_x_train))\n",
        "(fashion_mnist_x_train, fashion_mnist_y_train), (fashion_mnist_x_test, fashion_mnist_y_test) = fashion_mnist.load_data()\n",
        "#normnalize in and pad\n",
        "mnist_x_train = np.pad(mnist_x_train,((0,0),(2,2),(2,2)))/255.\n",
        "print(np.shape(mnist_x_train))\n",
        "mnist_x_test = np.pad(mnist_x_test,((0,0),(2,2),(2,2)))/255.\n",
        "fashion_mnist_x_train = np.pad(fashion_mnist_x_train,((0,0),(2,2),(2,2)))/255.\n",
        "fashion_mnist_x_test = np.pad(fashion_mnist_x_test,((0,0),(2,2),(2,2)))/255."
      ]
    },
    {
      "cell_type": "code",
      "execution_count": null,
      "metadata": {
        "colab": {
          "base_uri": "https://localhost:8080/"
        },
        "id": "WBIWB2a-VGqH",
        "outputId": "9c2af9f3-3974-4062-c4bd-eea78e321d33"
      },
      "outputs": [
        {
          "name": "stdout",
          "output_type": "stream",
          "text": [
            "(60000, 32, 32)\n"
          ]
        }
      ],
      "source": [
        "print(np.shape(mnist_x_train))\n"
      ]
    },
    {
      "cell_type": "markdown",
      "metadata": {
        "id": "Or5X_DyPc6dT"
      },
      "source": [
        "Here is a simple datagenerator."
      ]
    },
    {
      "cell_type": "code",
      "execution_count": 3,
      "metadata": {
        "id": "7Y5Zpv5fw2hd"
      },
      "outputs": [],
      "source": [
        "def datagenerator(x1,x2,batchsize):\n",
        "    n1 = x1.shape[0]\n",
        "    n2 = x2.shape[0]\n",
        "    while True:\n",
        "        num1 = np.random.randint(0, n1, batchsize)\n",
        "        num2 = np.random.randint(0, n2, batchsize)\n",
        "\n",
        "        x_data = (x1[num1] + x2[num2]) / 2.0\n",
        "        y_data = np.concatenate((x1[num1], x2[num2]), axis=2)\n",
        "\n",
        "        yield x_data, y_data "
      ]
    },
    {
      "cell_type": "markdown",
      "metadata": {
        "id": "9JLwLpsrdVH-"
      },
      "source": [
        "Here we define two generators, one for training and one for testing. You may possibly add an addition generator for validation, further splitting the dataset."
      ]
    },
    {
      "cell_type": "code",
      "execution_count": 4,
      "metadata": {
        "id": "Xc95qrN72Ysu"
      },
      "outputs": [],
      "source": [
        "batchsize = 64\n",
        "inputShape = (32,32,1)"
      ]
    },
    {
      "cell_type": "code",
      "execution_count": 32,
      "metadata": {
        "id": "dkv8Qc9-wEnf"
      },
      "outputs": [],
      "source": [
        "train_generator = datagenerator(mnist_x_train,fashion_mnist_x_train,80000)\n",
        "val_generator = datagenerator(mnist_x_train,fashion_mnist_x_train,40000)\n",
        "test_generator = datagenerator(mnist_x_test,fashion_mnist_x_test,20000)"
      ]
    },
    {
      "cell_type": "code",
      "execution_count": 36,
      "metadata": {
        "id": "FqBi8C3uOEOr"
      },
      "outputs": [],
      "source": [
        "x_train, y_train = next(train_generator)\n",
        "\n",
        "x_val, y_val = next(val_generator)\n",
        "x_test, y_test = next(train_generator)"
      ]
    },
    {
      "cell_type": "markdown",
      "metadata": {
        "id": "UiVcyHrVeXpI"
      },
      "source": [
        "Let us look at some input-output pairs"
      ]
    },
    {
      "cell_type": "code",
      "execution_count": 48,
      "metadata": {
        "id": "MPslGyNdxUQS",
        "colab": {
          "base_uri": "https://localhost:8080/",
          "height": 501
        },
        "outputId": "fe761b76-e6a4-42dd-f485-6120ff94b621"
      },
      "outputs": [
        {
          "output_type": "stream",
          "name": "stdout",
          "text": [
            "(32, 32)\n",
            "(80000, 32, 64)\n"
          ]
        },
        {
          "output_type": "display_data",
          "data": {
            "text/plain": [
              "<Figure size 432x288 with 1 Axes>"
            ],
            "image/png": "[encoded data removed]"
          },
          "metadata": {
            "needs_background": "light"
          }
        },
        {
          "output_type": "display_data",
          "data": {
            "text/plain": [
              "<Figure size 432x288 with 1 Axes>"
            ],
            "image/png": "[encoded data removed]"
          },
          "metadata": {
            "needs_background": "light"
          }
        }
      ],
      "source": [
        "print(x_train[0].shape)\n",
        "print(y_train.shape)\n",
        "plt.imshow(x_train[0],cmap='gray', interpolation='nearest')\n",
        "plt.show()\n",
        "plt.imshow(y_train[0], cmap='gray', interpolation='nearest')\n",
        "plt.show()\n"
      ]
    },
    {
      "cell_type": "markdown",
      "source": [
        ""
      ],
      "metadata": {
        "id": "wbcNrbDdCB_D"
      }
    },
    {
      "cell_type": "markdown",
      "source": [
        "The neural network i chose to face this problem is UNET. The architecture consists of a contracting path to capture context and a symmetric expanding path that enables precise localization. This structure is one of the most preminent in segmentation tasks. The original architecture is proposed here: https://arxiv.org/abs/1505.04597\n",
        "I tried different alternatives of UNET, but the best results are the ones that i reached refining the following: https://github.com/bnsreenu/python_for_microscopists/blob/master/204-207simple_unet_model.py.\n",
        "To improve it, i decided to commenting some dropout layers, adding BatchNormalization layers before the relu activations, increase the filters size, and concatenate two output layers since for our task we need a 32x64 image."
      ],
      "metadata": {
        "id": "Oizmbd43B9ox"
      }
    },
    {
      "cell_type": "code",
      "execution_count": 7,
      "metadata": {
        "colab": {
          "base_uri": "https://localhost:8080/"
        },
        "id": "evzwp5OR6h4K",
        "outputId": "58ce5ae2-74af-44d8-fbc4-32a828a39806"
      },
      "outputs": [
        {
          "output_type": "stream",
          "name": "stdout",
          "text": [
            "Model: \"model\"\n",
            "__________________________________________________________________________________________________\n",
            " Layer (type)                   Output Shape         Param #     Connected to                     \n",
            "==================================================================================================\n",
            " input_1 (InputLayer)           [(None, 32, 32, 1)]  0           []                               \n",
            "                                                                                                  \n",
            " conv2d (Conv2D)                (None, 32, 32, 32)   320         ['input_1[0][0]']                \n",
            "                                                                                                  \n",
            " activation (Activation)        (None, 32, 32, 32)   0           ['conv2d[0][0]']                 \n",
            "                                                                                                  \n",
            " batch_normalization (BatchNorm  (None, 32, 32, 32)  128         ['activation[0][0]']             \n",
            " alization)                                                                                       \n",
            "                                                                                                  \n",
            " conv2d_1 (Conv2D)              (None, 32, 32, 32)   9248        ['batch_normalization[0][0]']    \n",
            "                                                                                                  \n",
            " activation_1 (Activation)      (None, 32, 32, 32)   0           ['conv2d_1[0][0]']               \n",
            "                                                                                                  \n",
            " batch_normalization_1 (BatchNo  (None, 32, 32, 32)  128         ['activation_1[0][0]']           \n",
            " rmalization)                                                                                     \n",
            "                                                                                                  \n",
            " max_pooling2d (MaxPooling2D)   (None, 16, 16, 32)   0           ['batch_normalization_1[0][0]']  \n",
            "                                                                                                  \n",
            " conv2d_2 (Conv2D)              (None, 16, 16, 64)   18496       ['max_pooling2d[0][0]']          \n",
            "                                                                                                  \n",
            " activation_2 (Activation)      (None, 16, 16, 64)   0           ['conv2d_2[0][0]']               \n",
            "                                                                                                  \n",
            " batch_normalization_2 (BatchNo  (None, 16, 16, 64)  256         ['activation_2[0][0]']           \n",
            " rmalization)                                                                                     \n",
            "                                                                                                  \n",
            " conv2d_3 (Conv2D)              (None, 16, 16, 64)   36928       ['batch_normalization_2[0][0]']  \n",
            "                                                                                                  \n",
            " activation_3 (Activation)      (None, 16, 16, 64)   0           ['conv2d_3[0][0]']               \n",
            "                                                                                                  \n",
            " batch_normalization_3 (BatchNo  (None, 16, 16, 64)  256         ['activation_3[0][0]']           \n",
            " rmalization)                                                                                     \n",
            "                                                                                                  \n",
            " max_pooling2d_1 (MaxPooling2D)  (None, 8, 8, 64)    0           ['batch_normalization_3[0][0]']  \n",
            "                                                                                                  \n",
            " conv2d_4 (Conv2D)              (None, 8, 8, 128)    73856       ['max_pooling2d_1[0][0]']        \n",
            "                                                                                                  \n",
            " activation_4 (Activation)      (None, 8, 8, 128)    0           ['conv2d_4[0][0]']               \n",
            "                                                                                                  \n",
            " batch_normalization_4 (BatchNo  (None, 8, 8, 128)   512         ['activation_4[0][0]']           \n",
            " rmalization)                                                                                     \n",
            "                                                                                                  \n",
            " conv2d_5 (Conv2D)              (None, 8, 8, 128)    147584      ['batch_normalization_4[0][0]']  \n",
            "                                                                                                  \n",
            " activation_5 (Activation)      (None, 8, 8, 128)    0           ['conv2d_5[0][0]']               \n",
            "                                                                                                  \n",
            " batch_normalization_5 (BatchNo  (None, 8, 8, 128)   512         ['activation_5[0][0]']           \n",
            " rmalization)                                                                                     \n",
            "                                                                                                  \n",
            " max_pooling2d_2 (MaxPooling2D)  (None, 4, 4, 128)   0           ['batch_normalization_5[0][0]']  \n",
            "                                                                                                  \n",
            " conv2d_6 (Conv2D)              (None, 4, 4, 256)    295168      ['max_pooling2d_2[0][0]']        \n",
            "                                                                                                  \n",
            " activation_6 (Activation)      (None, 4, 4, 256)    0           ['conv2d_6[0][0]']               \n",
            "                                                                                                  \n",
            " batch_normalization_6 (BatchNo  (None, 4, 4, 256)   1024        ['activation_6[0][0]']           \n",
            " rmalization)                                                                                     \n",
            "                                                                                                  \n",
            " conv2d_7 (Conv2D)              (None, 4, 4, 256)    590080      ['batch_normalization_6[0][0]']  \n",
            "                                                                                                  \n",
            " activation_7 (Activation)      (None, 4, 4, 256)    0           ['conv2d_7[0][0]']               \n",
            "                                                                                                  \n",
            " batch_normalization_7 (BatchNo  (None, 4, 4, 256)   1024        ['activation_7[0][0]']           \n",
            " rmalization)                                                                                     \n",
            "                                                                                                  \n",
            " max_pooling2d_3 (MaxPooling2D)  (None, 2, 2, 256)   0           ['batch_normalization_7[0][0]']  \n",
            "                                                                                                  \n",
            " conv2d_8 (Conv2D)              (None, 2, 2, 512)    1180160     ['max_pooling2d_3[0][0]']        \n",
            "                                                                                                  \n",
            " activation_8 (Activation)      (None, 2, 2, 512)    0           ['conv2d_8[0][0]']               \n",
            "                                                                                                  \n",
            " batch_normalization_8 (BatchNo  (None, 2, 2, 512)   2048        ['activation_8[0][0]']           \n",
            " rmalization)                                                                                     \n",
            "                                                                                                  \n",
            " conv2d_9 (Conv2D)              (None, 2, 2, 512)    2359808     ['batch_normalization_8[0][0]']  \n",
            "                                                                                                  \n",
            " conv2d_transpose (Conv2DTransp  (None, 4, 4, 256)   524544      ['conv2d_9[0][0]']               \n",
            " ose)                                                                                             \n",
            "                                                                                                  \n",
            " concatenate (Concatenate)      (None, 4, 4, 512)    0           ['conv2d_transpose[0][0]',       \n",
            "                                                                  'batch_normalization_7[0][0]']  \n",
            "                                                                                                  \n",
            " conv2d_10 (Conv2D)             (None, 4, 4, 256)    1179904     ['concatenate[0][0]']            \n",
            "                                                                                                  \n",
            " activation_9 (Activation)      (None, 4, 4, 256)    0           ['conv2d_10[0][0]']              \n",
            "                                                                                                  \n",
            " batch_normalization_9 (BatchNo  (None, 4, 4, 256)   1024        ['activation_9[0][0]']           \n",
            " rmalization)                                                                                     \n",
            "                                                                                                  \n",
            " conv2d_11 (Conv2D)             (None, 4, 4, 256)    590080      ['batch_normalization_9[0][0]']  \n",
            "                                                                                                  \n",
            " batch_normalization_10 (BatchN  (None, 4, 4, 256)   1024        ['conv2d_11[0][0]']              \n",
            " ormalization)                                                                                    \n",
            "                                                                                                  \n",
            " conv2d_transpose_1 (Conv2DTran  (None, 8, 8, 128)   131200      ['batch_normalization_10[0][0]'] \n",
            " spose)                                                                                           \n",
            "                                                                                                  \n",
            " concatenate_1 (Concatenate)    (None, 8, 8, 256)    0           ['conv2d_transpose_1[0][0]',     \n",
            "                                                                  'batch_normalization_5[0][0]']  \n",
            "                                                                                                  \n",
            " conv2d_12 (Conv2D)             (None, 8, 8, 128)    295040      ['concatenate_1[0][0]']          \n",
            "                                                                                                  \n",
            " activation_11 (Activation)     (None, 8, 8, 128)    0           ['conv2d_12[0][0]']              \n",
            "                                                                                                  \n",
            " batch_normalization_11 (BatchN  (None, 8, 8, 128)   512         ['activation_11[0][0]']          \n",
            " ormalization)                                                                                    \n",
            "                                                                                                  \n",
            " conv2d_13 (Conv2D)             (None, 8, 8, 128)    147584      ['batch_normalization_11[0][0]'] \n",
            "                                                                                                  \n",
            " activation_12 (Activation)     (None, 8, 8, 128)    0           ['conv2d_13[0][0]']              \n",
            "                                                                                                  \n",
            " batch_normalization_12 (BatchN  (None, 8, 8, 128)   512         ['activation_12[0][0]']          \n",
            " ormalization)                                                                                    \n",
            "                                                                                                  \n",
            " conv2d_transpose_2 (Conv2DTran  (None, 16, 16, 64)  32832       ['batch_normalization_12[0][0]'] \n",
            " spose)                                                                                           \n",
            "                                                                                                  \n",
            " concatenate_2 (Concatenate)    (None, 16, 16, 128)  0           ['conv2d_transpose_2[0][0]',     \n",
            "                                                                  'batch_normalization_3[0][0]']  \n",
            "                                                                                                  \n",
            " conv2d_14 (Conv2D)             (None, 16, 16, 64)   73792       ['concatenate_2[0][0]']          \n",
            "                                                                                                  \n",
            " activation_13 (Activation)     (None, 16, 16, 64)   0           ['conv2d_14[0][0]']              \n",
            "                                                                                                  \n",
            " batch_normalization_13 (BatchN  (None, 16, 16, 64)  256         ['activation_13[0][0]']          \n",
            " ormalization)                                                                                    \n",
            "                                                                                                  \n",
            " conv2d_15 (Conv2D)             (None, 16, 16, 64)   36928       ['batch_normalization_13[0][0]'] \n",
            "                                                                                                  \n",
            " activation_14 (Activation)     (None, 16, 16, 64)   0           ['conv2d_15[0][0]']              \n",
            "                                                                                                  \n",
            " batch_normalization_14 (BatchN  (None, 16, 16, 64)  256         ['activation_14[0][0]']          \n",
            " ormalization)                                                                                    \n",
            "                                                                                                  \n",
            " conv2d_transpose_3 (Conv2DTran  (None, 32, 32, 32)  8224        ['batch_normalization_14[0][0]'] \n",
            " spose)                                                                                           \n",
            "                                                                                                  \n",
            " concatenate_3 (Concatenate)    (None, 32, 32, 64)   0           ['conv2d_transpose_3[0][0]',     \n",
            "                                                                  'batch_normalization_1[0][0]']  \n",
            "                                                                                                  \n",
            " conv2d_16 (Conv2D)             (None, 32, 32, 32)   18464       ['concatenate_3[0][0]']          \n",
            "                                                                                                  \n",
            " activation_15 (Activation)     (None, 32, 32, 32)   0           ['conv2d_16[0][0]']              \n",
            "                                                                                                  \n",
            " batch_normalization_15 (BatchN  (None, 32, 32, 32)  128         ['activation_15[0][0]']          \n",
            " ormalization)                                                                                    \n",
            "                                                                                                  \n",
            " conv2d_17 (Conv2D)             (None, 32, 32, 32)   9248        ['batch_normalization_15[0][0]'] \n",
            "                                                                                                  \n",
            " activation_16 (Activation)     (None, 32, 32, 32)   0           ['conv2d_17[0][0]']              \n",
            "                                                                                                  \n",
            " batch_normalization_16 (BatchN  (None, 32, 32, 32)  128         ['activation_16[0][0]']          \n",
            " ormalization)                                                                                    \n",
            "                                                                                                  \n",
            " conv2d_18 (Conv2D)             (None, 32, 32, 1)    33          ['batch_normalization_16[0][0]'] \n",
            "                                                                                                  \n",
            " conv2d_19 (Conv2D)             (None, 32, 32, 1)    33          ['batch_normalization_16[0][0]'] \n",
            "                                                                                                  \n",
            " concatenate_4 (Concatenate)    (None, 32, 64, 1)    0           ['conv2d_18[0][0]',              \n",
            "                                                                  'conv2d_19[0][0]']              \n",
            "                                                                                                  \n",
            "==================================================================================================\n",
            "Total params: 7,769,282\n",
            "Trainable params: 7,764,418\n",
            "Non-trainable params: 4,864\n",
            "__________________________________________________________________________________________________\n"
          ]
        }
      ],
      "source": [
        "\n",
        "from keras.models import Model\n",
        "inputs = tf.keras.layers.Input(inputShape)\n",
        "\n",
        "c1 = tf.keras.layers.Conv2D(32, (3, 3), padding='same')(inputs)\n",
        "\n",
        "c1 = tf.keras.layers.Activation(\"relu\")(c1)\n",
        "c1 = tf.keras.layers.BatchNormalization()(c1)\n",
        "#c1 = tf.keras.layers.Dropout(0.1)(c1)\n",
        "c1 = tf.keras.layers.Conv2D(32, (3, 3),  padding='same')(c1)\n",
        "\n",
        "c1 = tf.keras.layers.Activation(\"relu\")(c1)\n",
        "c1 = tf.keras.layers.BatchNormalization()(c1)\n",
        "p1 = tf.keras.layers.MaxPooling2D((2, 2))(c1)\n",
        "\n",
        "c2 = tf.keras.layers.Conv2D(64, (3, 3),  padding='same')(p1)\n",
        "\n",
        "c2 = tf.keras.layers.Activation(\"relu\")(c2)\n",
        "c2 = tf.keras.layers.BatchNormalization()(c2)\n",
        "\n",
        "#c2 = tf.keras.layers.Dropout(0.1)(c2)\n",
        "c2 = tf.keras.layers.Conv2D(64, (3, 3),  padding='same')(c2)\n",
        "\n",
        "c2 = tf.keras.layers.Activation(\"relu\")(c2)\n",
        "c2 = tf.keras.layers.BatchNormalization()(c2)\n",
        "p2 = tf.keras.layers.MaxPooling2D((2, 2))(c2)\n",
        "\n",
        "c3 = tf.keras.layers.Conv2D(128, (3, 3),  padding='same')(p2)\n",
        "\n",
        "c3 = tf.keras.layers.Activation(\"relu\")(c3)\n",
        "c3 = tf.keras.layers.BatchNormalization()(c3)\n",
        "#c3 = tf.keras.layers.Dropout(0.2)(c3)\n",
        "c3 = tf.keras.layers.Conv2D(128, (3, 3),  padding='same')(c3)\n",
        "\n",
        "c3 = tf.keras.layers.Activation(\"relu\")(c3)\n",
        "c3 = tf.keras.layers.BatchNormalization()(c3)\n",
        "p3 = tf.keras.layers.MaxPooling2D((2, 2))(c3)\n",
        "\n",
        "c4 = tf.keras.layers.Conv2D(256, (3, 3),  padding='same')(p3)\n",
        "c4 = tf.keras.layers.Activation(\"relu\")(c4)\n",
        "c4 = tf.keras.layers.BatchNormalization()(c4)\n",
        "\n",
        "#c4 = tf.keras.layers.Dropout(0.2)(c4)\n",
        "c4 = tf.keras.layers.Conv2D(256, (3, 3),  padding='same')(c4)\n",
        "\n",
        "c4 = tf.keras.layers.Activation(\"relu\")(c4)\n",
        "c4 = tf.keras.layers.BatchNormalization()(c4)\n",
        "p4 = tf.keras.layers.MaxPooling2D(pool_size=(2, 2))(c4)\n",
        "\n",
        "c5 = tf.keras.layers.Conv2D(512, (3, 3),  padding='same')(p4)\n",
        "\n",
        "c5 = tf.keras.layers.Activation(\"relu\")(c5)\n",
        "c5 = tf.keras.layers.BatchNormalization()(c5)\n",
        "\n",
        "#c5 = tf.keras.layers.Dropout(0.3)(c5)\n",
        "c5 = tf.keras.layers.Conv2D(512, (3, 3), activation='relu',  padding='same')(c5)\n",
        "\n",
        "#Expansive path \n",
        "u6 = tf.keras.layers.Conv2DTranspose(256, (2, 2), strides=(2, 2), padding='same')(c5)\n",
        "u6 = tf.keras.layers.concatenate([u6, c4])\n",
        "c6 = tf.keras.layers.Conv2D(256, (3, 3),  padding='same')(u6)\n",
        "\n",
        "c6 = tf.keras.layers.Activation(\"relu\")(c6)\n",
        "c6 = tf.keras.layers.BatchNormalization()(c6)\n",
        "#c6 = tf.keras.layers.Dropout(0.2)(c6)\n",
        "c6 = tf.keras.layers.Conv2D(256, (3, 3),  padding='same')(c6)\n",
        "c7 = tf.keras.layers.Activation(\"relu\")(c6)\n",
        "c6 = tf.keras.layers.BatchNormalization()(c6)\n",
        "\n",
        "\n",
        "u7 = tf.keras.layers.Conv2DTranspose(128, (2, 2), strides=(2, 2), padding='same')(c6)\n",
        "u7 = tf.keras.layers.concatenate([u7, c3])\n",
        "c7 = tf.keras.layers.Conv2D(128, (3, 3), activation='relu', padding='same')(u7)\n",
        "\n",
        "c7 = tf.keras.layers.Activation(\"relu\")(c7)\n",
        "c7 = tf.keras.layers.BatchNormalization()(c7)\n",
        "#c7 = tf.keras.layers.Dropout(0.2)(c7)\n",
        "c7 = tf.keras.layers.Conv2D(128, (3, 3),  padding='same')(c7)\n",
        "\n",
        "c7 = tf.keras.layers.Activation(\"relu\")(c7)\n",
        "c7 = tf.keras.layers.BatchNormalization()(c7)\n",
        "\n",
        "u8 = tf.keras.layers.Conv2DTranspose(64, (2, 2), strides=(2, 2), padding='same')(c7)\n",
        "u8 = tf.keras.layers.concatenate([u8, c2])\n",
        "c8 = tf.keras.layers.Conv2D(64, (3, 3),   padding='same')(u8)\n",
        "\n",
        "c8 = tf.keras.layers.Activation(\"relu\")(c8)\n",
        "c8 = tf.keras.layers.BatchNormalization()(c8)\n",
        "#c8 = tf.keras.layers.Dropout(0.1)(c8)\n",
        "c8 = tf.keras.layers.Conv2D(64, (3, 3),  padding='same')(c8)\n",
        "\n",
        "c8 = tf.keras.layers.Activation(\"relu\")(c8)\n",
        "c8 = tf.keras.layers.BatchNormalization()(c8)\n",
        "\n",
        "u9 = tf.keras.layers.Conv2DTranspose(32, (2, 2), strides=(2, 2), padding='same')(c8)\n",
        "u9 = tf.keras.layers.concatenate([u9, c1], axis=3)\n",
        "c9 = tf.keras.layers.Conv2D(32, (3, 3),  padding='same')(u9)\n",
        "\n",
        "c9 = tf.keras.layers.Activation(\"relu\")(c9)\n",
        "c9 = tf.keras.layers.BatchNormalization()(c9)\n",
        "#c9 = tf.keras.layers.Dropout(0.1)(c9)\n",
        "c9 = tf.keras.layers.Conv2D(32, (3, 3), padding='same')(c9)\n",
        "\n",
        "c9 = tf.keras.layers.Activation(\"relu\")(c9)\n",
        "c9 = tf.keras.layers.BatchNormalization()(c9)\n",
        "\n",
        "y_1 = tf.keras.layers.Conv2D(1, (1, 1), activation='sigmoid')(c9)\n",
        "\n",
        "y_2 = tf.keras.layers.Conv2D(1, (1, 1), activation='sigmoid')(c9)\n",
        "\n",
        "output = layers.Concatenate(axis=2)([y_1,y_2])\n",
        "\n",
        "model = Model(inputs=[inputs], outputs=[output])\n",
        "model.compile(tf.keras.optimizers.Adam(learning_rate=1e-3), \n",
        "              loss=tf.keras.losses.MeanSquaredError(reduction=\"auto\", name=\"mean_squared_error\"),\n",
        "              metrics=['mse'])\n",
        "model.summary()\n",
        "\n"
      ]
    },
    {
      "cell_type": "markdown",
      "metadata": {
        "id": "w52rIx7sQ-2N"
      },
      "source": [
        ""
      ]
    },
    {
      "cell_type": "markdown",
      "source": [
        "Here i fit the model. "
      ],
      "metadata": {
        "id": "LcmBUnHa_m_F"
      }
    },
    {
      "cell_type": "code",
      "execution_count": 49,
      "metadata": {
        "colab": {
          "base_uri": "https://localhost:8080/"
        },
        "id": "BuQQ-Fpmb-0_",
        "outputId": "292e0c43-e3cb-43bb-9609-a3e9f9716c05"
      },
      "outputs": [
        {
          "output_type": "stream",
          "name": "stdout",
          "text": [
            "Epoch 1/50\n",
            "1248/1250 [============================>.] - ETA: 0s - loss: 0.1149 - mse: 1.6561e-04\n",
            "Epoch 1: loss improved from -inf to 0.11493, saving model to /content/gdrive/My Drive/my_model\n",
            "INFO:tensorflow:Assets written to: /content/gdrive/My Drive/my_model/assets\n"
          ]
        },
        {
          "output_type": "stream",
          "name": "stderr",
          "text": [
            "INFO:tensorflow:Assets written to: /content/gdrive/My Drive/my_model/assets\n"
          ]
        },
        {
          "output_type": "stream",
          "name": "stdout",
          "text": [
            "\b\b\b\b\b\b\b\b\b\b\b\b\b\b\b\b\b\b\b\b\b\b\b\b\b\b\b\b\b\b\b\b\b\b\b\b\b\b\b\b\b\b\b\b\b\b\b\b\b\b\b\b\b\b\b\b\b\b\b\b\b\b\b\b\b\b\b\b\b\b\b\b\b\b\b\b\b\b\b\b\b\b\b\b\b\r1250/1250 [==============================] - 43s 34ms/step - loss: 0.1149 - mse: 1.6560e-04 - val_loss: 0.1169 - val_mse: 6.2459e-04\n",
            "Epoch 2/50\n",
            "1249/1250 [============================>.] - ETA: 0s - loss: 0.1149 - mse: 1.6511e-04\n",
            "Epoch 2: loss did not improve from 0.11493\n",
            "1250/1250 [==============================] - 35s 28ms/step - loss: 0.1149 - mse: 1.6510e-04 - val_loss: 0.1169 - val_mse: 6.3490e-04\n",
            "Epoch 3/50\n",
            "1250/1250 [==============================] - ETA: 0s - loss: 0.1149 - mse: 1.6429e-04\n",
            "Epoch 3: loss did not improve from 0.11493\n",
            "1250/1250 [==============================] - 35s 28ms/step - loss: 0.1149 - mse: 1.6429e-04 - val_loss: 0.1168 - val_mse: 6.1525e-04\n",
            "Epoch 4/50\n",
            "1249/1250 [============================>.] - ETA: 0s - loss: 0.1149 - mse: 1.6238e-04\n",
            "Epoch 4: loss did not improve from 0.11493\n",
            "1250/1250 [==============================] - 35s 28ms/step - loss: 0.1149 - mse: 1.6238e-04 - val_loss: 0.1168 - val_mse: 6.1955e-04\n",
            "Epoch 5/50\n",
            "1249/1250 [============================>.] - ETA: 0s - loss: 0.1149 - mse: 1.6186e-04\n",
            "Epoch 5: loss did not improve from 0.11493\n",
            "1250/1250 [==============================] - 36s 28ms/step - loss: 0.1149 - mse: 1.6186e-04 - val_loss: 0.1168 - val_mse: 6.1410e-04\n",
            "Epoch 6/50\n",
            "1248/1250 [============================>.] - ETA: 0s - loss: 0.1149 - mse: 1.6266e-04\n",
            "Epoch 6: loss did not improve from 0.11493\n",
            "1250/1250 [==============================] - 35s 28ms/step - loss: 0.1149 - mse: 1.6267e-04 - val_loss: 0.1169 - val_mse: 6.1577e-04\n",
            "Epoch 7/50\n",
            "1250/1250 [==============================] - ETA: 0s - loss: 0.1149 - mse: 1.6074e-04\n",
            "Epoch 7: loss did not improve from 0.11493\n",
            "1250/1250 [==============================] - 35s 28ms/step - loss: 0.1149 - mse: 1.6074e-04 - val_loss: 0.1169 - val_mse: 6.2140e-04\n",
            "Epoch 8/50\n",
            "1248/1250 [============================>.] - ETA: 0s - loss: 0.1149 - mse: 1.5774e-04\n",
            "Epoch 8: loss did not improve from 0.11493\n",
            "1250/1250 [==============================] - 35s 28ms/step - loss: 0.1149 - mse: 1.5775e-04 - val_loss: 0.1169 - val_mse: 6.2431e-04\n",
            "Epoch 9/50\n",
            "1249/1250 [============================>.] - ETA: 0s - loss: 0.1149 - mse: 1.5705e-04\n",
            "Epoch 9: loss did not improve from 0.11493\n",
            "1250/1250 [==============================] - 35s 28ms/step - loss: 0.1149 - mse: 1.5706e-04 - val_loss: 0.1169 - val_mse: 6.1660e-04\n",
            "Epoch 10/50\n",
            "1248/1250 [============================>.] - ETA: 0s - loss: 0.1149 - mse: 1.5785e-04\n",
            "Epoch 10: loss did not improve from 0.11493\n",
            "1250/1250 [==============================] - 35s 28ms/step - loss: 0.1149 - mse: 1.5784e-04 - val_loss: 0.1169 - val_mse: 6.2293e-04\n",
            "Epoch 11/50\n",
            "1249/1250 [============================>.] - ETA: 0s - loss: 0.1149 - mse: 1.5741e-04\n",
            "Epoch 11: loss did not improve from 0.11493\n",
            "1250/1250 [==============================] - 35s 28ms/step - loss: 0.1149 - mse: 1.5740e-04 - val_loss: 0.1169 - val_mse: 6.1951e-04\n",
            "Epoch 12/50\n",
            "1249/1250 [============================>.] - ETA: 0s - loss: 0.1149 - mse: 1.5629e-04\n",
            "Epoch 12: loss did not improve from 0.11493\n",
            "1250/1250 [==============================] - 36s 28ms/step - loss: 0.1149 - mse: 1.5630e-04 - val_loss: 0.1169 - val_mse: 6.4403e-04\n",
            "Epoch 13/50\n",
            "1250/1250 [==============================] - ETA: 0s - loss: 0.1149 - mse: 1.5339e-04\n",
            "Epoch 13: loss did not improve from 0.11493\n",
            "1250/1250 [==============================] - 36s 29ms/step - loss: 0.1149 - mse: 1.5339e-04 - val_loss: 0.1169 - val_mse: 6.1796e-04\n",
            "Epoch 14/50\n",
            "1248/1250 [============================>.] - ETA: 0s - loss: 0.1149 - mse: 1.5301e-04\n",
            "Epoch 14: loss did not improve from 0.11493\n",
            "1250/1250 [==============================] - 36s 28ms/step - loss: 0.1149 - mse: 1.5303e-04 - val_loss: 0.1169 - val_mse: 6.3123e-04\n",
            "Epoch 15/50\n",
            "1249/1250 [============================>.] - ETA: 0s - loss: 0.1149 - mse: 1.5311e-04\n",
            "Epoch 15: loss did not improve from 0.11493\n",
            "1250/1250 [==============================] - 35s 28ms/step - loss: 0.1149 - mse: 1.5312e-04 - val_loss: 0.1169 - val_mse: 6.2484e-04\n",
            "Epoch 16/50\n",
            "1250/1250 [==============================] - ETA: 0s - loss: 0.1149 - mse: 1.5266e-04\n",
            "Epoch 16: loss did not improve from 0.11493\n",
            "1250/1250 [==============================] - 35s 28ms/step - loss: 0.1149 - mse: 1.5266e-04 - val_loss: 0.1169 - val_mse: 6.2508e-04\n",
            "Epoch 17/50\n",
            "1250/1250 [==============================] - ETA: 0s - loss: 0.1149 - mse: 1.5100e-04\n",
            "Epoch 17: loss did not improve from 0.11493\n",
            "1250/1250 [==============================] - 35s 28ms/step - loss: 0.1149 - mse: 1.5100e-04 - val_loss: 0.1169 - val_mse: 6.3047e-04\n",
            "Epoch 18/50\n",
            "1250/1250 [==============================] - ETA: 0s - loss: 0.1149 - mse: 1.5138e-04\n",
            "Epoch 18: loss did not improve from 0.11493\n",
            "1250/1250 [==============================] - 35s 28ms/step - loss: 0.1149 - mse: 1.5138e-04 - val_loss: 0.1169 - val_mse: 6.3185e-04\n",
            "Epoch 19/50\n",
            "1248/1250 [============================>.] - ETA: 0s - loss: 0.1149 - mse: 1.4971e-04\n",
            "Epoch 19: loss did not improve from 0.11493\n",
            "1250/1250 [==============================] - 35s 28ms/step - loss: 0.1149 - mse: 1.4970e-04 - val_loss: 0.1169 - val_mse: 6.2488e-04\n",
            "Epoch 20/50\n",
            "1248/1250 [============================>.] - ETA: 0s - loss: 0.1149 - mse: 1.4849e-04\n",
            "Epoch 20: loss did not improve from 0.11493\n",
            "1250/1250 [==============================] - 35s 28ms/step - loss: 0.1149 - mse: 1.4852e-04 - val_loss: 0.1169 - val_mse: 6.3929e-04\n",
            "Epoch 21/50\n",
            "1248/1250 [============================>.] - ETA: 0s - loss: 0.1149 - mse: 1.4847e-04\n",
            "Epoch 21: loss did not improve from 0.11493\n",
            "1250/1250 [==============================] - 36s 28ms/step - loss: 0.1149 - mse: 1.4846e-04 - val_loss: 0.1169 - val_mse: 6.3555e-04\n",
            "Epoch 22/50\n",
            "1249/1250 [============================>.] - ETA: 0s - loss: 0.1148 - mse: 1.4754e-04\n",
            "Epoch 22: loss did not improve from 0.11493\n",
            "1250/1250 [==============================] - 35s 28ms/step - loss: 0.1149 - mse: 1.4757e-04 - val_loss: 0.1169 - val_mse: 6.2964e-04\n",
            "Epoch 23/50\n",
            "1248/1250 [============================>.] - ETA: 0s - loss: 0.1148 - mse: 1.4736e-04\n",
            "Epoch 23: loss did not improve from 0.11493\n",
            "1250/1250 [==============================] - 35s 28ms/step - loss: 0.1149 - mse: 1.4736e-04 - val_loss: 0.1169 - val_mse: 6.2767e-04\n",
            "Epoch 24/50\n",
            "1250/1250 [==============================] - ETA: 0s - loss: 0.1148 - mse: 1.4624e-04\n",
            "Epoch 24: loss did not improve from 0.11493\n",
            "1250/1250 [==============================] - 35s 28ms/step - loss: 0.1148 - mse: 1.4624e-04 - val_loss: 0.1169 - val_mse: 6.3700e-04\n",
            "Epoch 25/50\n",
            "1249/1250 [============================>.] - ETA: 0s - loss: 0.1149 - mse: 1.4556e-04\n",
            "Epoch 25: loss did not improve from 0.11493\n",
            "1250/1250 [==============================] - 35s 28ms/step - loss: 0.1148 - mse: 1.4555e-04 - val_loss: 0.1170 - val_mse: 6.4145e-04\n",
            "Epoch 26/50\n",
            "1250/1250 [==============================] - ETA: 0s - loss: 0.1148 - mse: 1.4422e-04\n",
            "Epoch 26: loss did not improve from 0.11493\n",
            "1250/1250 [==============================] - 35s 28ms/step - loss: 0.1148 - mse: 1.4422e-04 - val_loss: 0.1169 - val_mse: 6.3421e-04\n",
            "Epoch 27/50\n",
            "1250/1250 [==============================] - ETA: 0s - loss: 0.1148 - mse: 1.4475e-04\n",
            "Epoch 27: loss did not improve from 0.11493\n",
            "1250/1250 [==============================] - 35s 28ms/step - loss: 0.1148 - mse: 1.4475e-04 - val_loss: 0.1169 - val_mse: 6.3536e-04\n",
            "Epoch 28/50\n",
            "1248/1250 [============================>.] - ETA: 0s - loss: 0.1148 - mse: 1.4343e-04\n",
            "Epoch 28: loss did not improve from 0.11493\n",
            "1250/1250 [==============================] - 35s 28ms/step - loss: 0.1148 - mse: 1.4343e-04 - val_loss: 0.1170 - val_mse: 6.4412e-04\n",
            "Epoch 29/50\n",
            "1248/1250 [============================>.] - ETA: 0s - loss: 0.1148 - mse: 1.4292e-04\n",
            "Epoch 29: loss did not improve from 0.11493\n",
            "1250/1250 [==============================] - 36s 28ms/step - loss: 0.1148 - mse: 1.4294e-04 - val_loss: 0.1170 - val_mse: 6.3169e-04\n",
            "Epoch 30/50\n",
            "1248/1250 [============================>.] - ETA: 0s - loss: 0.1148 - mse: 1.4219e-04\n",
            "Epoch 30: loss did not improve from 0.11493\n",
            "1250/1250 [==============================] - 36s 28ms/step - loss: 0.1148 - mse: 1.4220e-04 - val_loss: 0.1169 - val_mse: 6.3211e-04\n",
            "Epoch 31/50\n",
            "1250/1250 [==============================] - ETA: 0s - loss: 0.1148 - mse: 1.4161e-04\n",
            "Epoch 31: loss did not improve from 0.11493\n",
            "1250/1250 [==============================] - 35s 28ms/step - loss: 0.1148 - mse: 1.4161e-04 - val_loss: 0.1170 - val_mse: 6.3305e-04\n",
            "Epoch 32/50\n",
            "1250/1250 [==============================] - ETA: 0s - loss: 0.1148 - mse: 1.4135e-04\n",
            "Epoch 32: loss did not improve from 0.11493\n",
            "1250/1250 [==============================] - 35s 28ms/step - loss: 0.1148 - mse: 1.4135e-04 - val_loss: 0.1170 - val_mse: 6.5322e-04\n",
            "Epoch 33/50\n",
            "1248/1250 [============================>.] - ETA: 0s - loss: 0.1148 - mse: 1.4049e-04\n",
            "Epoch 33: loss did not improve from 0.11493\n",
            "1250/1250 [==============================] - 35s 28ms/step - loss: 0.1148 - mse: 1.4047e-04 - val_loss: 0.1169 - val_mse: 6.3400e-04\n",
            "Epoch 34/50\n",
            "1249/1250 [============================>.] - ETA: 0s - loss: 0.1148 - mse: 1.4068e-04\n",
            "Epoch 34: loss did not improve from 0.11493\n",
            "1250/1250 [==============================] - 35s 28ms/step - loss: 0.1148 - mse: 1.4067e-04 - val_loss: 0.1170 - val_mse: 6.3528e-04\n",
            "Epoch 35/50\n",
            "1250/1250 [==============================] - ETA: 0s - loss: 0.1148 - mse: 1.3872e-04\n",
            "Epoch 35: loss did not improve from 0.11493\n",
            "1250/1250 [==============================] - 35s 28ms/step - loss: 0.1148 - mse: 1.3872e-04 - val_loss: 0.1170 - val_mse: 6.3863e-04\n",
            "Epoch 36/50\n",
            "1250/1250 [==============================] - ETA: 0s - loss: 0.1148 - mse: 1.4051e-04\n",
            "Epoch 36: loss did not improve from 0.11493\n",
            "1250/1250 [==============================] - 35s 28ms/step - loss: 0.1148 - mse: 1.4051e-04 - val_loss: 0.1170 - val_mse: 6.3501e-04\n",
            "Epoch 37/50\n",
            "1250/1250 [==============================] - ETA: 0s - loss: 0.1148 - mse: 1.3814e-04\n",
            "Epoch 37: loss did not improve from 0.11493\n",
            "1250/1250 [==============================] - 36s 29ms/step - loss: 0.1148 - mse: 1.3814e-04 - val_loss: 0.1170 - val_mse: 6.3571e-04\n",
            "Epoch 38/50\n",
            "1249/1250 [============================>.] - ETA: 0s - loss: 0.1148 - mse: 1.3849e-04\n",
            "Epoch 38: loss did not improve from 0.11493\n",
            "1250/1250 [==============================] - 36s 29ms/step - loss: 0.1148 - mse: 1.3848e-04 - val_loss: 0.1170 - val_mse: 6.4056e-04\n",
            "Epoch 39/50\n",
            "1249/1250 [============================>.] - ETA: 0s - loss: 0.1148 - mse: 1.3682e-04\n",
            "Epoch 39: loss did not improve from 0.11493\n",
            "1250/1250 [==============================] - 36s 28ms/step - loss: 0.1148 - mse: 1.3683e-04 - val_loss: 0.1170 - val_mse: 6.4278e-04\n",
            "Epoch 40/50\n",
            "1248/1250 [============================>.] - ETA: 0s - loss: 0.1148 - mse: 1.3647e-04\n",
            "Epoch 40: loss did not improve from 0.11493\n",
            "1250/1250 [==============================] - 35s 28ms/step - loss: 0.1148 - mse: 1.3647e-04 - val_loss: 0.1170 - val_mse: 6.4354e-04\n",
            "Epoch 41/50\n",
            "1249/1250 [============================>.] - ETA: 0s - loss: 0.1148 - mse: 1.3654e-04\n",
            "Epoch 41: loss did not improve from 0.11493\n",
            "1250/1250 [==============================] - 36s 28ms/step - loss: 0.1148 - mse: 1.3653e-04 - val_loss: 0.1170 - val_mse: 6.4961e-04\n",
            "Epoch 42/50\n",
            "1249/1250 [============================>.] - ETA: 0s - loss: 0.1148 - mse: 1.3546e-04\n",
            "Epoch 42: loss did not improve from 0.11493\n",
            "1250/1250 [==============================] - 36s 28ms/step - loss: 0.1148 - mse: 1.3546e-04 - val_loss: 0.1170 - val_mse: 6.4870e-04\n",
            "Epoch 43/50\n",
            "1249/1250 [============================>.] - ETA: 0s - loss: 0.1148 - mse: 1.3581e-04\n",
            "Epoch 43: loss did not improve from 0.11493\n",
            "1250/1250 [==============================] - 35s 28ms/step - loss: 0.1148 - mse: 1.3581e-04 - val_loss: 0.1170 - val_mse: 6.3675e-04\n",
            "Epoch 44/50\n",
            "1250/1250 [==============================] - ETA: 0s - loss: 0.1148 - mse: 1.3381e-04\n",
            "Epoch 44: loss did not improve from 0.11493\n",
            "1250/1250 [==============================] - 36s 29ms/step - loss: 0.1148 - mse: 1.3381e-04 - val_loss: 0.1170 - val_mse: 6.4065e-04\n",
            "Epoch 45/50\n",
            "1248/1250 [============================>.] - ETA: 0s - loss: 0.1148 - mse: 1.3440e-04\n",
            "Epoch 45: loss did not improve from 0.11493\n",
            "1250/1250 [==============================] - 36s 28ms/step - loss: 0.1148 - mse: 1.3441e-04 - val_loss: 0.1170 - val_mse: 6.4764e-04\n",
            "Epoch 46/50\n",
            "1249/1250 [============================>.] - ETA: 0s - loss: 0.1148 - mse: 1.3384e-04\n",
            "Epoch 46: loss did not improve from 0.11493\n",
            "1250/1250 [==============================] - 35s 28ms/step - loss: 0.1148 - mse: 1.3383e-04 - val_loss: 0.1170 - val_mse: 6.4295e-04\n",
            "Epoch 47/50\n",
            "1249/1250 [============================>.] - ETA: 0s - loss: 0.1148 - mse: 1.3284e-04\n",
            "Epoch 47: loss did not improve from 0.11493\n",
            "1250/1250 [==============================] - 36s 28ms/step - loss: 0.1148 - mse: 1.3284e-04 - val_loss: 0.1170 - val_mse: 6.5037e-04\n",
            "Epoch 48/50\n",
            "1249/1250 [============================>.] - ETA: 0s - loss: 0.1148 - mse: 1.3353e-04\n",
            "Epoch 48: loss did not improve from 0.11493\n",
            "1250/1250 [==============================] - 36s 29ms/step - loss: 0.1148 - mse: 1.3352e-04 - val_loss: 0.1170 - val_mse: 6.4115e-04\n",
            "Epoch 49/50\n",
            "1250/1250 [==============================] - ETA: 0s - loss: 0.1148 - mse: 1.3139e-04\n",
            "Epoch 49: loss did not improve from 0.11493\n",
            "1250/1250 [==============================] - 35s 28ms/step - loss: 0.1148 - mse: 1.3139e-04 - val_loss: 0.1171 - val_mse: 6.6161e-04\n",
            "Epoch 50/50\n",
            "1249/1250 [============================>.] - ETA: 0s - loss: 0.1148 - mse: 1.3137e-04\n",
            "Epoch 50: loss did not improve from 0.11493\n",
            "1250/1250 [==============================] - 35s 28ms/step - loss: 0.1148 - mse: 1.3135e-04 - val_loss: 0.1170 - val_mse: 6.4438e-04\n"
          ]
        }
      ],
      "source": [
        "filepath=\"/content/gdrive/My Drive/my_model\"\n",
        "checkpoint = tf.keras.callbacks.ModelCheckpoint(filepath, \n",
        "                                                monitor='loss', verbose=1, \n",
        "                                                save_best_only=True,\n",
        "                                                mode='max')\n",
        "callbacks_list = [checkpoint]\n",
        "\n",
        "results = model.fit(x_train, \n",
        "                    y_train, \n",
        "                    epochs=50, \n",
        "                    batch_size=64,\n",
        "                    use_multiprocessing=True,\n",
        "                    callbacks = callbacks_list,\n",
        "                    steps_per_epoch=x_train.shape[0]/batchsize, \n",
        "                    validation_data=(x_val, y_val),\n",
        "                    validation_batch_size=batchsize,\n",
        "                    validation_steps=(x_val.shape[0]/batchsize))"
      ]
    },
    {
      "cell_type": "markdown",
      "source": [
        "\n"
      ],
      "metadata": {
        "id": "tfEiggpQ1Doz"
      }
    },
    {
      "cell_type": "code",
      "execution_count": 53,
      "metadata": {
        "colab": {
          "base_uri": "https://localhost:8080/"
        },
        "id": "V5f0zMC1XOnl",
        "outputId": "1790eefe-96c4-4d23-b7a1-5af9fd72c73d"
      },
      "outputs": [
        {
          "output_type": "stream",
          "name": "stdout",
          "text": [
            "625/625 [==============================] - 4s 6ms/step - loss: 0.1177 - mse: 6.5242e-04\n",
            "625/625 [==============================] - 4s 6ms/step - loss: 0.1177 - mse: 6.4639e-04\n",
            "625/625 [==============================] - 4s 6ms/step - loss: 0.1173 - mse: 6.5657e-04\n",
            "625/625 [==============================] - 4s 7ms/step - loss: 0.1175 - mse: 6.5366e-04\n",
            "625/625 [==============================] - 4s 6ms/step - loss: 0.1176 - mse: 6.6087e-04\n",
            "625/625 [==============================] - 4s 7ms/step - loss: 0.1177 - mse: 6.5030e-04\n",
            "625/625 [==============================] - 4s 7ms/step - loss: 0.1172 - mse: 6.5084e-04\n",
            "625/625 [==============================] - 4s 7ms/step - loss: 0.1179 - mse: 6.5125e-04\n",
            "625/625 [==============================] - 4s 6ms/step - loss: 0.1176 - mse: 6.5245e-04\n",
            "625/625 [==============================] - 4s 7ms/step - loss: 0.1176 - mse: 6.4932e-04\n",
            "3.80261587260337e-06\n"
          ]
        }
      ],
      "source": [
        "MSEs = []\n",
        "for i in range(10):\n",
        "  x_test, y_test = next(test_generator)\n",
        "  mse = model.evaluate(x_test, y_test)[1]\n",
        "  MSEs.append(mse)\n",
        "  \n",
        "print(np.std(MSEs))\n"
      ]
    },
    {
      "cell_type": "markdown",
      "source": [
        "Let's see some output results."
      ],
      "metadata": {
        "id": "Ke3QnuAl_4o8"
      }
    },
    {
      "cell_type": "code",
      "source": [
        "x_test, y_test = next(test_generator)\n",
        "t = x_test[0].reshape(1,32,32,1)\n",
        "y_t = y_test[0]\n",
        "\n",
        "res = model.predict(t, \n",
        "                    batch_size=batchsize, \n",
        "                    verbose = 1,\n",
        "                    steps = 32)\n",
        "\n",
        "plt.imshow(x_test[0],cmap='gray', interpolation='nearest')\n",
        "plt.show()\n",
        "\n",
        "plt.imshow(np.squeeze(res[0]), cmap='gray', interpolation='nearest')\n",
        "plt.show()\n",
        "\n"
      ],
      "metadata": {
        "colab": {
          "base_uri": "https://localhost:8080/",
          "height": 538
        },
        "id": "4hMN8oIXtUzQ",
        "outputId": "bed9d173-6e88-4ee5-c794-736bcac3a8be"
      },
      "execution_count": 55,
      "outputs": [
        {
          "output_type": "stream",
          "name": "stdout",
          "text": [
            "\r 1/32 [..............................] - ETA: 0sWARNING:tensorflow:Your input ran out of data; interrupting training. Make sure that your dataset or generator can generate at least `steps_per_epoch * epochs` batches (in this case, 32 batches). You may need to use the repeat() function when building your dataset.\n"
          ]
        },
        {
          "output_type": "stream",
          "name": "stderr",
          "text": [
            "WARNING:tensorflow:Your input ran out of data; interrupting training. Make sure that your dataset or generator can generate at least `steps_per_epoch * epochs` batches (in this case, 32 batches). You may need to use the repeat() function when building your dataset.\n"
          ]
        },
        {
          "output_type": "stream",
          "name": "stdout",
          "text": [
            "\b\b\b\b\b\b\b\b\b\b\b\b\b\b\b\b\b\b\b\b\b\b\b\b\b\b\b\b\b\b\b\b\b\b\b\b\b\b\b\b\b\b\b\b\b\b\b\b\r32/32 [==============================] - 0s 748us/step\n"
          ]
        },
        {
          "output_type": "display_data",
          "data": {
            "text/plain": [
              "<Figure size 432x288 with 1 Axes>"
            ],
            "image/png": "[encoded data removed]"
          },
          "metadata": {
            "needs_background": "light"
          }
        },
        {
          "output_type": "display_data",
          "data": {
            "text/plain": [
              "<Figure size 432x288 with 1 Axes>"
            ],
            "image/png": "[encoded data removed]"
          },
          "metadata": {
            "needs_background": "light"
          }
        }
      ]
    },
    {
      "cell_type": "markdown",
      "source": [
        "Here i saved the model on my drive."
      ],
      "metadata": {
        "id": "dZOAwFJT__9l"
      }
    },
    {
      "cell_type": "code",
      "execution_count": 25,
      "metadata": {
        "id": "6ZJulqdR8a5B",
        "colab": {
          "base_uri": "https://localhost:8080/"
        },
        "outputId": "ab79e9e7-a385-43b5-ae11-a29590cc0691"
      },
      "outputs": [
        {
          "output_type": "stream",
          "name": "stdout",
          "text": [
            "Drive already mounted at /content/gdrive; to attempt to forcibly remount, call drive.mount(\"/content/gdrive\", force_remount=True).\n"
          ]
        }
      ],
      "source": [
        "from tensorflow.keras.models import Model\n",
        "from google.colab import drive\n",
        "drive.mount('/content/gdrive')\n",
        "#model.save('./gdrive/MyDrive/my_Newmodel')\n",
        "model = tf.keras.models.load_model('./gdrive/MyDrive/my_Newmodel')"
      ]
    },
    {
      "cell_type": "code",
      "source": [
        "model.save_weights('./gdrive/MyDrive/lastWeights3.h5')"
      ],
      "metadata": {
        "id": "jdeHdlI2ui2j"
      },
      "execution_count": 44,
      "outputs": []
    },
    {
      "cell_type": "code",
      "source": [
        "model.load_weights('./gdrive/MyDrive/lastWeights2.h5')"
      ],
      "metadata": {
        "id": "I34hWX98uiYR"
      },
      "execution_count": null,
      "outputs": []
    }
  ],
  "metadata": {
    "accelerator": "GPU",
    "colab": {
      "collapsed_sections": [],
      "name": "Gabriele_Risino.ipynb",
      "provenance": [],
      "machine_shape": "hm"
    },
    "gpuClass": "standard",
    "kernelspec": {
      "display_name": "Python 3",
      "name": "python3"
    },
    "language_info": {
      "name": "python"
    }
  },
  "nbformat": 4,
  "nbformat_minor": 0
}